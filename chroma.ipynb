{
  "nbformat": 4,
  "nbformat_minor": 0,
  "metadata": {
    "colab": {
      "provenance": [],
      "authorship_tag": "ABX9TyPbr6C/5gKaT+3yVoJ2hHpk",
      "include_colab_link": true
    },
    "kernelspec": {
      "name": "python3",
      "display_name": "Python 3"
    },
    "language_info": {
      "name": "python"
    }
  },
  "cells": [
    {
      "cell_type": "markdown",
      "metadata": {
        "id": "view-in-github",
        "colab_type": "text"
      },
      "source": [
        "<a href=\"https://colab.research.google.com/github/kimdesok/Learning/blob/main/chroma.ipynb\" target=\"_parent\"><img src=\"https://colab.research.google.com/assets/colab-badge.svg\" alt=\"Open In Colab\"/></a>"
      ]
    },
    {
      "cell_type": "markdown",
      "source": [
        "# New Section"
      ],
      "metadata": {
        "id": "Pfs5U9y8yTHf"
      }
    },
    {
      "cell_type": "code",
      "source": [
        "!pip install chromadb tiktoken\n",
        "!pip install python-dotenv\n"
      ],
      "metadata": {
        "colab": {
          "base_uri": "https://localhost:8080/"
        },
        "id": "8zTrRjyi0Ml7",
        "outputId": "53b9765c-7028-4447-ad68-a1a470189db8"
      },
      "execution_count": 2,
      "outputs": [
        {
          "output_type": "stream",
          "name": "stdout",
          "text": [
            "Collecting chromadb\n",
            "  Downloading chromadb-1.0.0-cp39-abi3-manylinux_2_17_x86_64.manylinux2014_x86_64.whl.metadata (6.9 kB)\n",
            "Collecting tiktoken\n",
            "  Downloading tiktoken-0.9.0-cp311-cp311-manylinux_2_17_x86_64.manylinux2014_x86_64.whl.metadata (6.7 kB)\n",
            "Collecting build>=1.0.3 (from chromadb)\n",
            "  Downloading build-1.2.2.post1-py3-none-any.whl.metadata (6.5 kB)\n",
            "Requirement already satisfied: pydantic>=1.9 in /usr/local/lib/python3.11/dist-packages (from chromadb) (2.11.1)\n",
            "Collecting chroma-hnswlib==0.7.6 (from chromadb)\n",
            "  Downloading chroma_hnswlib-0.7.6-cp311-cp311-manylinux_2_17_x86_64.manylinux2014_x86_64.whl.metadata (252 bytes)\n",
            "Collecting fastapi==0.115.9 (from chromadb)\n",
            "  Downloading fastapi-0.115.9-py3-none-any.whl.metadata (27 kB)\n",
            "Collecting uvicorn>=0.18.3 (from uvicorn[standard]>=0.18.3->chromadb)\n",
            "  Downloading uvicorn-0.34.0-py3-none-any.whl.metadata (6.5 kB)\n",
            "Requirement already satisfied: numpy>=1.22.5 in /usr/local/lib/python3.11/dist-packages (from chromadb) (2.0.2)\n",
            "Collecting posthog>=2.4.0 (from chromadb)\n",
            "  Downloading posthog-3.23.0-py2.py3-none-any.whl.metadata (3.0 kB)\n",
            "Requirement already satisfied: typing-extensions>=4.5.0 in /usr/local/lib/python3.11/dist-packages (from chromadb) (4.13.0)\n",
            "Collecting onnxruntime>=1.14.1 (from chromadb)\n",
            "  Downloading onnxruntime-1.21.0-cp311-cp311-manylinux_2_27_x86_64.manylinux_2_28_x86_64.whl.metadata (4.5 kB)\n",
            "Requirement already satisfied: opentelemetry-api>=1.2.0 in /usr/local/lib/python3.11/dist-packages (from chromadb) (1.31.1)\n",
            "Collecting opentelemetry-exporter-otlp-proto-grpc>=1.2.0 (from chromadb)\n",
            "  Downloading opentelemetry_exporter_otlp_proto_grpc-1.31.1-py3-none-any.whl.metadata (2.5 kB)\n",
            "Collecting opentelemetry-instrumentation-fastapi>=0.41b0 (from chromadb)\n",
            "  Downloading opentelemetry_instrumentation_fastapi-0.52b1-py3-none-any.whl.metadata (2.2 kB)\n",
            "Requirement already satisfied: opentelemetry-sdk>=1.2.0 in /usr/local/lib/python3.11/dist-packages (from chromadb) (1.31.1)\n",
            "Requirement already satisfied: tokenizers>=0.13.2 in /usr/local/lib/python3.11/dist-packages (from chromadb) (0.21.1)\n",
            "Collecting pypika>=0.48.9 (from chromadb)\n",
            "  Downloading PyPika-0.48.9.tar.gz (67 kB)\n",
            "\u001b[2K     \u001b[90m━━━━━━━━━━━━━━━━━━━━━━━━━━━━━━━━━━━━━━━━\u001b[0m \u001b[32m67.3/67.3 kB\u001b[0m \u001b[31m3.7 MB/s\u001b[0m eta \u001b[36m0:00:00\u001b[0m\n",
            "\u001b[?25h  Installing build dependencies ... \u001b[?25l\u001b[?25hdone\n",
            "  Getting requirements to build wheel ... \u001b[?25l\u001b[?25hdone\n",
            "  Preparing metadata (pyproject.toml) ... \u001b[?25l\u001b[?25hdone\n",
            "Requirement already satisfied: tqdm>=4.65.0 in /usr/local/lib/python3.11/dist-packages (from chromadb) (4.67.1)\n",
            "Collecting overrides>=7.3.1 (from chromadb)\n",
            "  Downloading overrides-7.7.0-py3-none-any.whl.metadata (5.8 kB)\n",
            "Requirement already satisfied: importlib-resources in /usr/local/lib/python3.11/dist-packages (from chromadb) (6.5.2)\n",
            "Requirement already satisfied: grpcio>=1.58.0 in /usr/local/lib/python3.11/dist-packages (from chromadb) (1.71.0)\n",
            "Collecting bcrypt>=4.0.1 (from chromadb)\n",
            "  Downloading bcrypt-4.3.0-cp39-abi3-manylinux_2_34_x86_64.whl.metadata (10 kB)\n",
            "Requirement already satisfied: typer>=0.9.0 in /usr/local/lib/python3.11/dist-packages (from chromadb) (0.15.2)\n",
            "Collecting kubernetes>=28.1.0 (from chromadb)\n",
            "  Downloading kubernetes-32.0.1-py2.py3-none-any.whl.metadata (1.7 kB)\n",
            "Requirement already satisfied: tenacity>=8.2.3 in /usr/local/lib/python3.11/dist-packages (from chromadb) (9.0.0)\n",
            "Requirement already satisfied: pyyaml>=6.0.0 in /usr/local/lib/python3.11/dist-packages (from chromadb) (6.0.2)\n",
            "Collecting mmh3>=4.0.1 (from chromadb)\n",
            "  Downloading mmh3-5.1.0-cp311-cp311-manylinux_2_5_x86_64.manylinux1_x86_64.manylinux_2_17_x86_64.manylinux2014_x86_64.whl.metadata (16 kB)\n",
            "Requirement already satisfied: orjson>=3.9.12 in /usr/local/lib/python3.11/dist-packages (from chromadb) (3.10.16)\n",
            "Requirement already satisfied: httpx>=0.27.0 in /usr/local/lib/python3.11/dist-packages (from chromadb) (0.28.1)\n",
            "Requirement already satisfied: rich>=10.11.0 in /usr/local/lib/python3.11/dist-packages (from chromadb) (13.9.4)\n",
            "Requirement already satisfied: jsonschema>=4.19.0 in /usr/local/lib/python3.11/dist-packages (from chromadb) (4.23.0)\n",
            "Collecting starlette<0.46.0,>=0.40.0 (from fastapi==0.115.9->chromadb)\n",
            "  Downloading starlette-0.45.3-py3-none-any.whl.metadata (6.3 kB)\n",
            "Requirement already satisfied: regex>=2022.1.18 in /usr/local/lib/python3.11/dist-packages (from tiktoken) (2024.11.6)\n",
            "Requirement already satisfied: requests>=2.26.0 in /usr/local/lib/python3.11/dist-packages (from tiktoken) (2.32.3)\n",
            "Requirement already satisfied: packaging>=19.1 in /usr/local/lib/python3.11/dist-packages (from build>=1.0.3->chromadb) (24.2)\n",
            "Collecting pyproject_hooks (from build>=1.0.3->chromadb)\n",
            "  Downloading pyproject_hooks-1.2.0-py3-none-any.whl.metadata (1.3 kB)\n",
            "Requirement already satisfied: anyio in /usr/local/lib/python3.11/dist-packages (from httpx>=0.27.0->chromadb) (4.9.0)\n",
            "Requirement already satisfied: certifi in /usr/local/lib/python3.11/dist-packages (from httpx>=0.27.0->chromadb) (2025.1.31)\n",
            "Requirement already satisfied: httpcore==1.* in /usr/local/lib/python3.11/dist-packages (from httpx>=0.27.0->chromadb) (1.0.7)\n",
            "Requirement already satisfied: idna in /usr/local/lib/python3.11/dist-packages (from httpx>=0.27.0->chromadb) (3.10)\n",
            "Requirement already satisfied: h11<0.15,>=0.13 in /usr/local/lib/python3.11/dist-packages (from httpcore==1.*->httpx>=0.27.0->chromadb) (0.14.0)\n",
            "Requirement already satisfied: attrs>=22.2.0 in /usr/local/lib/python3.11/dist-packages (from jsonschema>=4.19.0->chromadb) (25.3.0)\n",
            "Requirement already satisfied: jsonschema-specifications>=2023.03.6 in /usr/local/lib/python3.11/dist-packages (from jsonschema>=4.19.0->chromadb) (2024.10.1)\n",
            "Requirement already satisfied: referencing>=0.28.4 in /usr/local/lib/python3.11/dist-packages (from jsonschema>=4.19.0->chromadb) (0.36.2)\n",
            "Requirement already satisfied: rpds-py>=0.7.1 in /usr/local/lib/python3.11/dist-packages (from jsonschema>=4.19.0->chromadb) (0.24.0)\n",
            "Requirement already satisfied: six>=1.9.0 in /usr/local/lib/python3.11/dist-packages (from kubernetes>=28.1.0->chromadb) (1.17.0)\n",
            "Requirement already satisfied: python-dateutil>=2.5.3 in /usr/local/lib/python3.11/dist-packages (from kubernetes>=28.1.0->chromadb) (2.8.2)\n",
            "Requirement already satisfied: google-auth>=1.0.1 in /usr/local/lib/python3.11/dist-packages (from kubernetes>=28.1.0->chromadb) (2.38.0)\n",
            "Requirement already satisfied: websocket-client!=0.40.0,!=0.41.*,!=0.42.*,>=0.32.0 in /usr/local/lib/python3.11/dist-packages (from kubernetes>=28.1.0->chromadb) (1.8.0)\n",
            "Requirement already satisfied: requests-oauthlib in /usr/local/lib/python3.11/dist-packages (from kubernetes>=28.1.0->chromadb) (2.0.0)\n",
            "Requirement already satisfied: oauthlib>=3.2.2 in /usr/local/lib/python3.11/dist-packages (from kubernetes>=28.1.0->chromadb) (3.2.2)\n",
            "Requirement already satisfied: urllib3>=1.24.2 in /usr/local/lib/python3.11/dist-packages (from kubernetes>=28.1.0->chromadb) (2.3.0)\n",
            "Collecting durationpy>=0.7 (from kubernetes>=28.1.0->chromadb)\n",
            "  Downloading durationpy-0.9-py3-none-any.whl.metadata (338 bytes)\n",
            "Collecting coloredlogs (from onnxruntime>=1.14.1->chromadb)\n",
            "  Downloading coloredlogs-15.0.1-py2.py3-none-any.whl.metadata (12 kB)\n",
            "Requirement already satisfied: flatbuffers in /usr/local/lib/python3.11/dist-packages (from onnxruntime>=1.14.1->chromadb) (25.2.10)\n",
            "Requirement already satisfied: protobuf in /usr/local/lib/python3.11/dist-packages (from onnxruntime>=1.14.1->chromadb) (5.29.4)\n",
            "Requirement already satisfied: sympy in /usr/local/lib/python3.11/dist-packages (from onnxruntime>=1.14.1->chromadb) (1.13.1)\n",
            "Requirement already satisfied: deprecated>=1.2.6 in /usr/local/lib/python3.11/dist-packages (from opentelemetry-api>=1.2.0->chromadb) (1.2.18)\n",
            "Requirement already satisfied: importlib-metadata<8.7.0,>=6.0 in /usr/local/lib/python3.11/dist-packages (from opentelemetry-api>=1.2.0->chromadb) (8.6.1)\n",
            "Requirement already satisfied: googleapis-common-protos~=1.52 in /usr/local/lib/python3.11/dist-packages (from opentelemetry-exporter-otlp-proto-grpc>=1.2.0->chromadb) (1.69.2)\n",
            "Collecting opentelemetry-exporter-otlp-proto-common==1.31.1 (from opentelemetry-exporter-otlp-proto-grpc>=1.2.0->chromadb)\n",
            "  Downloading opentelemetry_exporter_otlp_proto_common-1.31.1-py3-none-any.whl.metadata (1.9 kB)\n",
            "Collecting opentelemetry-proto==1.31.1 (from opentelemetry-exporter-otlp-proto-grpc>=1.2.0->chromadb)\n",
            "  Downloading opentelemetry_proto-1.31.1-py3-none-any.whl.metadata (2.4 kB)\n",
            "Collecting opentelemetry-instrumentation-asgi==0.52b1 (from opentelemetry-instrumentation-fastapi>=0.41b0->chromadb)\n",
            "  Downloading opentelemetry_instrumentation_asgi-0.52b1-py3-none-any.whl.metadata (2.1 kB)\n",
            "Collecting opentelemetry-instrumentation==0.52b1 (from opentelemetry-instrumentation-fastapi>=0.41b0->chromadb)\n",
            "  Downloading opentelemetry_instrumentation-0.52b1-py3-none-any.whl.metadata (6.8 kB)\n",
            "Requirement already satisfied: opentelemetry-semantic-conventions==0.52b1 in /usr/local/lib/python3.11/dist-packages (from opentelemetry-instrumentation-fastapi>=0.41b0->chromadb) (0.52b1)\n",
            "Collecting opentelemetry-util-http==0.52b1 (from opentelemetry-instrumentation-fastapi>=0.41b0->chromadb)\n",
            "  Downloading opentelemetry_util_http-0.52b1-py3-none-any.whl.metadata (2.6 kB)\n",
            "Requirement already satisfied: wrapt<2.0.0,>=1.0.0 in /usr/local/lib/python3.11/dist-packages (from opentelemetry-instrumentation==0.52b1->opentelemetry-instrumentation-fastapi>=0.41b0->chromadb) (1.17.2)\n",
            "Collecting asgiref~=3.0 (from opentelemetry-instrumentation-asgi==0.52b1->opentelemetry-instrumentation-fastapi>=0.41b0->chromadb)\n",
            "  Downloading asgiref-3.8.1-py3-none-any.whl.metadata (9.3 kB)\n",
            "Collecting monotonic>=1.5 (from posthog>=2.4.0->chromadb)\n",
            "  Downloading monotonic-1.6-py2.py3-none-any.whl.metadata (1.5 kB)\n",
            "Collecting backoff>=1.10.0 (from posthog>=2.4.0->chromadb)\n",
            "  Downloading backoff-2.2.1-py3-none-any.whl.metadata (14 kB)\n",
            "Requirement already satisfied: distro>=1.5.0 in /usr/local/lib/python3.11/dist-packages (from posthog>=2.4.0->chromadb) (1.9.0)\n",
            "Requirement already satisfied: annotated-types>=0.6.0 in /usr/local/lib/python3.11/dist-packages (from pydantic>=1.9->chromadb) (0.7.0)\n",
            "Requirement already satisfied: pydantic-core==2.33.0 in /usr/local/lib/python3.11/dist-packages (from pydantic>=1.9->chromadb) (2.33.0)\n",
            "Requirement already satisfied: typing-inspection>=0.4.0 in /usr/local/lib/python3.11/dist-packages (from pydantic>=1.9->chromadb) (0.4.0)\n",
            "Requirement already satisfied: charset-normalizer<4,>=2 in /usr/local/lib/python3.11/dist-packages (from requests>=2.26.0->tiktoken) (3.4.1)\n",
            "Requirement already satisfied: markdown-it-py>=2.2.0 in /usr/local/lib/python3.11/dist-packages (from rich>=10.11.0->chromadb) (3.0.0)\n",
            "Requirement already satisfied: pygments<3.0.0,>=2.13.0 in /usr/local/lib/python3.11/dist-packages (from rich>=10.11.0->chromadb) (2.18.0)\n",
            "Requirement already satisfied: huggingface-hub<1.0,>=0.16.4 in /usr/local/lib/python3.11/dist-packages (from tokenizers>=0.13.2->chromadb) (0.30.1)\n",
            "Requirement already satisfied: click>=8.0.0 in /usr/local/lib/python3.11/dist-packages (from typer>=0.9.0->chromadb) (8.1.8)\n",
            "Requirement already satisfied: shellingham>=1.3.0 in /usr/local/lib/python3.11/dist-packages (from typer>=0.9.0->chromadb) (1.5.4)\n",
            "Collecting httptools>=0.6.3 (from uvicorn[standard]>=0.18.3->chromadb)\n",
            "  Downloading httptools-0.6.4-cp311-cp311-manylinux_2_5_x86_64.manylinux1_x86_64.manylinux_2_17_x86_64.manylinux2014_x86_64.whl.metadata (3.6 kB)\n",
            "Collecting python-dotenv>=0.13 (from uvicorn[standard]>=0.18.3->chromadb)\n",
            "  Downloading python_dotenv-1.1.0-py3-none-any.whl.metadata (24 kB)\n",
            "Collecting uvloop!=0.15.0,!=0.15.1,>=0.14.0 (from uvicorn[standard]>=0.18.3->chromadb)\n",
            "  Downloading uvloop-0.21.0-cp311-cp311-manylinux_2_17_x86_64.manylinux2014_x86_64.whl.metadata (4.9 kB)\n",
            "Collecting watchfiles>=0.13 (from uvicorn[standard]>=0.18.3->chromadb)\n",
            "  Downloading watchfiles-1.0.4-cp311-cp311-manylinux_2_17_x86_64.manylinux2014_x86_64.whl.metadata (4.9 kB)\n",
            "Requirement already satisfied: websockets>=10.4 in /usr/local/lib/python3.11/dist-packages (from uvicorn[standard]>=0.18.3->chromadb) (15.0.1)\n",
            "Requirement already satisfied: cachetools<6.0,>=2.0.0 in /usr/local/lib/python3.11/dist-packages (from google-auth>=1.0.1->kubernetes>=28.1.0->chromadb) (5.5.2)\n",
            "Requirement already satisfied: pyasn1-modules>=0.2.1 in /usr/local/lib/python3.11/dist-packages (from google-auth>=1.0.1->kubernetes>=28.1.0->chromadb) (0.4.2)\n",
            "Requirement already satisfied: rsa<5,>=3.1.4 in /usr/local/lib/python3.11/dist-packages (from google-auth>=1.0.1->kubernetes>=28.1.0->chromadb) (4.9)\n",
            "Requirement already satisfied: filelock in /usr/local/lib/python3.11/dist-packages (from huggingface-hub<1.0,>=0.16.4->tokenizers>=0.13.2->chromadb) (3.18.0)\n",
            "Requirement already satisfied: fsspec>=2023.5.0 in /usr/local/lib/python3.11/dist-packages (from huggingface-hub<1.0,>=0.16.4->tokenizers>=0.13.2->chromadb) (2025.3.2)\n",
            "Requirement already satisfied: zipp>=3.20 in /usr/local/lib/python3.11/dist-packages (from importlib-metadata<8.7.0,>=6.0->opentelemetry-api>=1.2.0->chromadb) (3.21.0)\n",
            "Requirement already satisfied: mdurl~=0.1 in /usr/local/lib/python3.11/dist-packages (from markdown-it-py>=2.2.0->rich>=10.11.0->chromadb) (0.1.2)\n",
            "Requirement already satisfied: sniffio>=1.1 in /usr/local/lib/python3.11/dist-packages (from anyio->httpx>=0.27.0->chromadb) (1.3.1)\n",
            "Collecting humanfriendly>=9.1 (from coloredlogs->onnxruntime>=1.14.1->chromadb)\n",
            "  Downloading humanfriendly-10.0-py2.py3-none-any.whl.metadata (9.2 kB)\n",
            "Requirement already satisfied: mpmath<1.4,>=1.1.0 in /usr/local/lib/python3.11/dist-packages (from sympy->onnxruntime>=1.14.1->chromadb) (1.3.0)\n",
            "Requirement already satisfied: pyasn1<0.7.0,>=0.6.1 in /usr/local/lib/python3.11/dist-packages (from pyasn1-modules>=0.2.1->google-auth>=1.0.1->kubernetes>=28.1.0->chromadb) (0.6.1)\n",
            "Downloading chromadb-1.0.0-cp39-abi3-manylinux_2_17_x86_64.manylinux2014_x86_64.whl (18.0 MB)\n",
            "\u001b[2K   \u001b[90m━━━━━━━━━━━━━━━━━━━━━━━━━━━━━━━━━━━━━━━━\u001b[0m \u001b[32m18.0/18.0 MB\u001b[0m \u001b[31m46.3 MB/s\u001b[0m eta \u001b[36m0:00:00\u001b[0m\n",
            "\u001b[?25hDownloading chroma_hnswlib-0.7.6-cp311-cp311-manylinux_2_17_x86_64.manylinux2014_x86_64.whl (2.4 MB)\n",
            "\u001b[2K   \u001b[90m━━━━━━━━━━━━━━━━━━━━━━━━━━━━━━━━━━━━━━━━\u001b[0m \u001b[32m2.4/2.4 MB\u001b[0m \u001b[31m42.6 MB/s\u001b[0m eta \u001b[36m0:00:00\u001b[0m\n",
            "\u001b[?25hDownloading fastapi-0.115.9-py3-none-any.whl (94 kB)\n",
            "\u001b[2K   \u001b[90m━━━━━━━━━━━━━━━━━━━━━━━━━━━━━━━━━━━━━━━━\u001b[0m \u001b[32m94.9/94.9 kB\u001b[0m \u001b[31m7.0 MB/s\u001b[0m eta \u001b[36m0:00:00\u001b[0m\n",
            "\u001b[?25hDownloading tiktoken-0.9.0-cp311-cp311-manylinux_2_17_x86_64.manylinux2014_x86_64.whl (1.2 MB)\n",
            "\u001b[2K   \u001b[90m━━━━━━━━━━━━━━━━━━━━━━━━━━━━━━━━━━━━━━━━\u001b[0m \u001b[32m1.2/1.2 MB\u001b[0m \u001b[31m30.4 MB/s\u001b[0m eta \u001b[36m0:00:00\u001b[0m\n",
            "\u001b[?25hDownloading bcrypt-4.3.0-cp39-abi3-manylinux_2_34_x86_64.whl (284 kB)\n",
            "\u001b[2K   \u001b[90m━━━━━━━━━━━━━━━━━━━━━━━━━━━━━━━━━━━━━━━━\u001b[0m \u001b[32m284.2/284.2 kB\u001b[0m \u001b[31m21.1 MB/s\u001b[0m eta \u001b[36m0:00:00\u001b[0m\n",
            "\u001b[?25hDownloading build-1.2.2.post1-py3-none-any.whl (22 kB)\n",
            "Downloading kubernetes-32.0.1-py2.py3-none-any.whl (2.0 MB)\n",
            "\u001b[2K   \u001b[90m━━━━━━━━━━━━━━━━━━━━━━━━━━━━━━━━━━━━━━━━\u001b[0m \u001b[32m2.0/2.0 MB\u001b[0m \u001b[31m49.4 MB/s\u001b[0m eta \u001b[36m0:00:00\u001b[0m\n",
            "\u001b[?25hDownloading mmh3-5.1.0-cp311-cp311-manylinux_2_5_x86_64.manylinux1_x86_64.manylinux_2_17_x86_64.manylinux2014_x86_64.whl (101 kB)\n",
            "\u001b[2K   \u001b[90m━━━━━━━━━━━━━━━━━━━━━━━━━━━━━━━━━━━━━━━━\u001b[0m \u001b[32m101.6/101.6 kB\u001b[0m \u001b[31m7.3 MB/s\u001b[0m eta \u001b[36m0:00:00\u001b[0m\n",
            "\u001b[?25hDownloading onnxruntime-1.21.0-cp311-cp311-manylinux_2_27_x86_64.manylinux_2_28_x86_64.whl (16.0 MB)\n",
            "\u001b[2K   \u001b[90m━━━━━━━━━━━━━━━━━━━━━━━━━━━━━━━━━━━━━━━━\u001b[0m \u001b[32m16.0/16.0 MB\u001b[0m \u001b[31m38.4 MB/s\u001b[0m eta \u001b[36m0:00:00\u001b[0m\n",
            "\u001b[?25hDownloading opentelemetry_exporter_otlp_proto_grpc-1.31.1-py3-none-any.whl (18 kB)\n",
            "Downloading opentelemetry_exporter_otlp_proto_common-1.31.1-py3-none-any.whl (18 kB)\n",
            "Downloading opentelemetry_proto-1.31.1-py3-none-any.whl (55 kB)\n",
            "\u001b[2K   \u001b[90m━━━━━━━━━━━━━━━━━━━━━━━━━━━━━━━━━━━━━━━━\u001b[0m \u001b[32m55.9/55.9 kB\u001b[0m \u001b[31m4.0 MB/s\u001b[0m eta \u001b[36m0:00:00\u001b[0m\n",
            "\u001b[?25hDownloading opentelemetry_instrumentation_fastapi-0.52b1-py3-none-any.whl (12 kB)\n",
            "Downloading opentelemetry_instrumentation-0.52b1-py3-none-any.whl (31 kB)\n",
            "Downloading opentelemetry_instrumentation_asgi-0.52b1-py3-none-any.whl (16 kB)\n",
            "Downloading opentelemetry_util_http-0.52b1-py3-none-any.whl (7.3 kB)\n",
            "Downloading overrides-7.7.0-py3-none-any.whl (17 kB)\n",
            "Downloading posthog-3.23.0-py2.py3-none-any.whl (84 kB)\n",
            "\u001b[2K   \u001b[90m━━━━━━━━━━━━━━━━━━━━━━━━━━━━━━━━━━━━━━━━\u001b[0m \u001b[32m85.0/85.0 kB\u001b[0m \u001b[31m5.5 MB/s\u001b[0m eta \u001b[36m0:00:00\u001b[0m\n",
            "\u001b[?25hDownloading uvicorn-0.34.0-py3-none-any.whl (62 kB)\n",
            "\u001b[2K   \u001b[90m━━━━━━━━━━━━━━━━━━━━━━━━━━━━━━━━━━━━━━━━\u001b[0m \u001b[32m62.3/62.3 kB\u001b[0m \u001b[31m4.2 MB/s\u001b[0m eta \u001b[36m0:00:00\u001b[0m\n",
            "\u001b[?25hDownloading backoff-2.2.1-py3-none-any.whl (15 kB)\n",
            "Downloading durationpy-0.9-py3-none-any.whl (3.5 kB)\n",
            "Downloading httptools-0.6.4-cp311-cp311-manylinux_2_5_x86_64.manylinux1_x86_64.manylinux_2_17_x86_64.manylinux2014_x86_64.whl (459 kB)\n",
            "\u001b[2K   \u001b[90m━━━━━━━━━━━━━━━━━━━━━━━━━━━━━━━━━━━━━━━━\u001b[0m \u001b[32m459.8/459.8 kB\u001b[0m \u001b[31m23.3 MB/s\u001b[0m eta \u001b[36m0:00:00\u001b[0m\n",
            "\u001b[?25hDownloading monotonic-1.6-py2.py3-none-any.whl (8.2 kB)\n",
            "Downloading python_dotenv-1.1.0-py3-none-any.whl (20 kB)\n",
            "Downloading starlette-0.45.3-py3-none-any.whl (71 kB)\n",
            "\u001b[2K   \u001b[90m━━━━━━━━━━━━━━━━━━━━━━━━━━━━━━━━━━━━━━━━\u001b[0m \u001b[32m71.5/71.5 kB\u001b[0m \u001b[31m5.1 MB/s\u001b[0m eta \u001b[36m0:00:00\u001b[0m\n",
            "\u001b[?25hDownloading uvloop-0.21.0-cp311-cp311-manylinux_2_17_x86_64.manylinux2014_x86_64.whl (4.0 MB)\n",
            "\u001b[2K   \u001b[90m━━━━━━━━━━━━━━━━━━━━━━━━━━━━━━━━━━━━━━━━\u001b[0m \u001b[32m4.0/4.0 MB\u001b[0m \u001b[31m52.7 MB/s\u001b[0m eta \u001b[36m0:00:00\u001b[0m\n",
            "\u001b[?25hDownloading watchfiles-1.0.4-cp311-cp311-manylinux_2_17_x86_64.manylinux2014_x86_64.whl (452 kB)\n",
            "\u001b[2K   \u001b[90m━━━━━━━━━━━━━━━━━━━━━━━━━━━━━━━━━━━━━━━━\u001b[0m \u001b[32m452.6/452.6 kB\u001b[0m \u001b[31m23.2 MB/s\u001b[0m eta \u001b[36m0:00:00\u001b[0m\n",
            "\u001b[?25hDownloading coloredlogs-15.0.1-py2.py3-none-any.whl (46 kB)\n",
            "\u001b[2K   \u001b[90m━━━━━━━━━━━━━━━━━━━━━━━━━━━━━━━━━━━━━━━━\u001b[0m \u001b[32m46.0/46.0 kB\u001b[0m \u001b[31m3.2 MB/s\u001b[0m eta \u001b[36m0:00:00\u001b[0m\n",
            "\u001b[?25hDownloading pyproject_hooks-1.2.0-py3-none-any.whl (10 kB)\n",
            "Downloading asgiref-3.8.1-py3-none-any.whl (23 kB)\n",
            "Downloading humanfriendly-10.0-py2.py3-none-any.whl (86 kB)\n",
            "\u001b[2K   \u001b[90m━━━━━━━━━━━━━━━━━━━━━━━━━━━━━━━━━━━━━━━━\u001b[0m \u001b[32m86.8/86.8 kB\u001b[0m \u001b[31m6.2 MB/s\u001b[0m eta \u001b[36m0:00:00\u001b[0m\n",
            "\u001b[?25hBuilding wheels for collected packages: pypika\n",
            "  Building wheel for pypika (pyproject.toml) ... \u001b[?25l\u001b[?25hdone\n",
            "  Created wheel for pypika: filename=pypika-0.48.9-py2.py3-none-any.whl size=53800 sha256=e8fa040a462b070718b759107028ff801e21dac31327c7e3a96781ff96ce5e2f\n",
            "  Stored in directory: /root/.cache/pip/wheels/a3/01/bd/4c40ceb9d5354160cb186dcc153360f4ab7eb23e2b24daf96d\n",
            "Successfully built pypika\n",
            "Installing collected packages: pypika, monotonic, durationpy, uvloop, uvicorn, python-dotenv, pyproject_hooks, overrides, opentelemetry-util-http, opentelemetry-proto, mmh3, humanfriendly, httptools, chroma-hnswlib, bcrypt, backoff, asgiref, watchfiles, tiktoken, starlette, posthog, opentelemetry-exporter-otlp-proto-common, coloredlogs, build, onnxruntime, kubernetes, fastapi, opentelemetry-instrumentation, opentelemetry-instrumentation-asgi, opentelemetry-exporter-otlp-proto-grpc, opentelemetry-instrumentation-fastapi, chromadb\n",
            "Successfully installed asgiref-3.8.1 backoff-2.2.1 bcrypt-4.3.0 build-1.2.2.post1 chroma-hnswlib-0.7.6 chromadb-1.0.0 coloredlogs-15.0.1 durationpy-0.9 fastapi-0.115.9 httptools-0.6.4 humanfriendly-10.0 kubernetes-32.0.1 mmh3-5.1.0 monotonic-1.6 onnxruntime-1.21.0 opentelemetry-exporter-otlp-proto-common-1.31.1 opentelemetry-exporter-otlp-proto-grpc-1.31.1 opentelemetry-instrumentation-0.52b1 opentelemetry-instrumentation-asgi-0.52b1 opentelemetry-instrumentation-fastapi-0.52b1 opentelemetry-proto-1.31.1 opentelemetry-util-http-0.52b1 overrides-7.7.0 posthog-3.23.0 pypika-0.48.9 pyproject_hooks-1.2.0 python-dotenv-1.1.0 starlette-0.45.3 tiktoken-0.9.0 uvicorn-0.34.0 uvloop-0.21.0 watchfiles-1.0.4\n",
            "Requirement already satisfied: python-dotenv in /usr/local/lib/python3.11/dist-packages (1.1.0)\n"
          ]
        }
      ]
    },
    {
      "cell_type": "code",
      "source": [
        "from dotenv import load_dotenv\n",
        "import os\n",
        "import openai, chromadb\n",
        "\n",
        "# Load .env file\n",
        "load_dotenv()\n",
        "\n",
        "# Retrieve the key\n",
        "OPENAI_API_TOKEN = os.getenv(\"OPENAI_API_KEY\")\n",
        "#print(OPENAI_API_TOKEN)"
      ],
      "metadata": {
        "id": "QWsI3v-ivNSD"
      },
      "execution_count": 3,
      "outputs": []
    },
    {
      "cell_type": "markdown",
      "source": [
        "## Create or get Collection"
      ],
      "metadata": {
        "id": "KZ87VT5ZyURL"
      }
    },
    {
      "cell_type": "code",
      "execution_count": 29,
      "metadata": {
        "id": "lq0K5VDuxt2r"
      },
      "outputs": [],
      "source": [
        "from chromadb.utils.embedding_functions import OpenAIEmbeddingFunction\n",
        "\n",
        "# Create a persistant client\n",
        "db_path = \"./data\"\n",
        "client = chromadb.PersistentClient(path=db_path)\n",
        "\n",
        "# Create a netflix_title collection using the OpenAI Embedding function\n",
        "collection = client.get_or_create_collection(\n",
        "    name=\"netflix_titles\",\n",
        "    embedding_function=OpenAIEmbeddingFunction(\n",
        "        model_name=\"text-embedding-3-small\",\n",
        "        api_key=OPENAI_API_TOKEN\n",
        "    )\n",
        ")"
      ]
    },
    {
      "cell_type": "code",
      "source": [
        "# List the collections\n",
        "print(client.list_collections())\n"
      ],
      "metadata": {
        "colab": {
          "base_uri": "https://localhost:8080/"
        },
        "id": "zDhgZ7oH1PgX",
        "outputId": "a075ee95-f3c6-4473-cd9e-22f7fb723e63"
      },
      "execution_count": 5,
      "outputs": [
        {
          "output_type": "stream",
          "name": "stdout",
          "text": [
            "[Collection(name=netflix_titles)]\n"
          ]
        }
      ]
    },
    {
      "cell_type": "markdown",
      "source": [
        "## Dataset loading to populate Collection with the ids & documents"
      ],
      "metadata": {
        "id": "pxOd2UxZyfdK"
      }
    },
    {
      "cell_type": "code",
      "source": [
        "import csv\n",
        "\n",
        "ids = []\n",
        "documents = []\n",
        "\n",
        "with open('./netflix_titles_1000.csv') as csvfile:\n",
        "  reader = csv.DictReader(csvfile)\n",
        "  for i, row in enumerate(reader):\n",
        "    ids.append(row['show_id'])\n",
        "    text = f\"Title: {row['title']} ({row['type']})\\nDescription: {row['description']}\\nCategories: {row['listed_in']}\"\n",
        "    documents.append(text)"
      ],
      "metadata": {
        "id": "7g-hEeS21bPv"
      },
      "execution_count": 30,
      "outputs": []
    },
    {
      "cell_type": "markdown",
      "source": [
        "##Retrieve collection"
      ],
      "metadata": {
        "id": "CPZlBFybo8Tx"
      }
    },
    {
      "cell_type": "code",
      "source": [
        "import os\n",
        "import sys\n",
        "import contextlib\n",
        "\n",
        "# Assuming you already have the client and collection loaded\n",
        "collection = client.get_collection(\"netflix_titles\")\n",
        "\n",
        "# Silent add block\n",
        "with open(os.devnull, 'w') as f, contextlib.redirect_stdout(f):\n",
        "    collection.add(\n",
        "        ids=ids,\n",
        "        documents=documents\n",
        "    )\n",
        "\n",
        "result = collection.get()\n",
        "#print(result)"
      ],
      "metadata": {
        "id": "oV_lQnIr1PhN"
      },
      "execution_count": 33,
      "outputs": []
    },
    {
      "cell_type": "code",
      "source": [
        "# Fetch all documents (or as many as you need)\n",
        "all_items = collection.get()  # This returns a dict with keys like \"documents\", \"ids\", etc.\n",
        "#print(len(all_items), all_items.keys(), all_items)\n",
        "\n",
        "# Extract just the texts into a list\n",
        "documents = all_items[\"documents\"]\n",
        "\n",
        "# Optional: preview\n",
        "print(\"📄 Number of documents:\", collection.count())\n",
        "\n",
        "print(\"🔹 First document:\", collection.peek(3))\n",
        "\n",
        "collection.delete(ids=[ids[0], ids[1]])"
      ],
      "metadata": {
        "colab": {
          "base_uri": "https://localhost:8080/"
        },
        "id": "qi27Jbio2XmX",
        "outputId": "493b99fc-d2f7-4a17-fa77-5d5bdf978378"
      },
      "execution_count": 8,
      "outputs": [
        {
          "output_type": "stream",
          "name": "stdout",
          "text": [
            "📄 Number of documents: 1000\n",
            "🔹 First document: {'ids': ['s1', 's2', 's3'], 'embeddings': array([[-0.10890239, -0.04683724, -0.07819176, ...,  0.00722835,\n",
            "         0.02060966, -0.04477739],\n",
            "       [-0.09149237,  0.0402753 , -0.0268563 , ...,  0.03136477,\n",
            "         0.00951984, -0.01715871],\n",
            "       [-0.00504848,  0.00746851, -0.05256566, ..., -0.01810597,\n",
            "         0.01158333, -0.04438727]]), 'documents': ['Title: Dick Johnson Is Dead (Movie)\\nDescription: As her father nears the end of his life, filmmaker Kirsten Johnson stages his death in inventive and comical ways to help them both face the inevitable.\\nCategories: Documentaries', 'Title: Blood & Water (TV Show)\\nDescription: After crossing paths at a party, a Cape Town teen sets out to prove whether a private-school swimming star is her sister who was abducted at birth.\\nCategories: International TV Shows, TV Dramas, TV Mysteries', 'Title: Ganglands (TV Show)\\nDescription: To protect his family from a powerful drug lord, skilled thief Mehdi and his expert team of robbers are pulled into a violent and deadly turf war.\\nCategories: Crime TV Shows, International TV Shows, TV Action & Adventure'], 'uris': None, 'included': ['embeddings', 'metadatas', 'documents'], 'data': None, 'metadatas': [None, None, None]}\n"
          ]
        }
      ]
    },
    {
      "cell_type": "markdown",
      "source": [],
      "metadata": {
        "id": "kTKucVbcJUOC"
      }
    },
    {
      "cell_type": "markdown",
      "source": [
        "## Query"
      ],
      "metadata": {
        "id": "QI-veLfbJlmM"
      }
    },
    {
      "cell_type": "code",
      "source": [
        "result = collection.query(\n",
        "    query_texts = [\"movies where people sing a lot\"],\n",
        "    n_results=3\n",
        ")"
      ],
      "metadata": {
        "id": "_aaDF2tqJTXz"
      },
      "execution_count": 9,
      "outputs": []
    },
    {
      "cell_type": "code",
      "source": [
        "print(result.keys())\n",
        "print(result['ids'])\n",
        "print(result['distances'])\n",
        "print(result['documents'][0]) #for i in range(3)\n",
        "print(result['embeddings'])"
      ],
      "metadata": {
        "colab": {
          "base_uri": "https://localhost:8080/"
        },
        "id": "MSbm5iCZKCgR",
        "outputId": "941aec23-d79a-42d1-c44a-99b1db235ca1"
      },
      "execution_count": 10,
      "outputs": [
        {
          "output_type": "stream",
          "name": "stdout",
          "text": [
            "dict_keys(['ids', 'embeddings', 'documents', 'uris', 'included', 'data', 'metadatas', 'distances'])\n",
            "[['s293', 's376', 's851']]\n",
            "[[1.0587867498397827, 1.140680193901062, 1.1417112350463867]]\n",
            "['Title: Quartet (Movie)\\nDescription: To save their posh retirement home, former opera stars plan a gala recital — until the biggest diva among them refuses to sing.\\nCategories: Comedies, Dramas, Independent Movies', 'Title: Resort to Love (Movie)\\nDescription: Reeling from a broken heart and career meltdown, a singer takes a gig at a swanky island resort — where her ex-fiancé happens to be getting married.\\nCategories: Comedies, Romantic Movies', 'Title: 99 Songs (Movie)\\nDescription: Challenged to compose 100 songs before he can marry the girl he loves, a tortured but passionate singer-songwriter embarks on a poignant musical journey.\\nCategories: Dramas, International Movies, Music & Musicals']\n",
            "None\n"
          ]
        }
      ]
    },
    {
      "cell_type": "markdown",
      "source": [
        "## Updating"
      ],
      "metadata": {
        "id": "Ke1BLbjeOdit"
      }
    },
    {
      "cell_type": "code",
      "source": [
        "new_data = [{\"id\": \"s1001\", \"document\": \"Title: Cats & Dogs (Movie)\\nDescription: A look at the top-secret, high-tech espionage war going on between cats and dogs, of which their human owners are blissfully unaware.\"},\n",
        " {\"id\": \"s6884\", \"document\": 'Title: Goosebumps 2: Haunted Halloween (Movie)\\nDescription: Three teens spend their Halloween trying to stop a magical book, which brings characters from the \"Goosebumps\" novels to life.\\nCategories: Children & Family Movies, Comedies'}]"
      ],
      "metadata": {
        "id": "YloroB3xtofa"
      },
      "execution_count": 11,
      "outputs": []
    },
    {
      "cell_type": "code",
      "source": [
        "collection.update(\n",
        "    ids=[doc['id'] for doc in new_data],\n",
        "    documents=[doc['document'] for doc in new_data]\n",
        ")"
      ],
      "metadata": {
        "id": "vHcVh9fBOhzq"
      },
      "execution_count": 12,
      "outputs": []
    },
    {
      "cell_type": "code",
      "source": [
        "collection.upsert(\n",
        "    ids=[doc['id'] for doc in new_data],\n",
        "    documents=[doc['document'] for doc in new_data]\n",
        ")"
      ],
      "metadata": {
        "id": "ItfZtSUcPCyi"
      },
      "execution_count": 13,
      "outputs": []
    },
    {
      "cell_type": "code",
      "source": [
        "result = collection.query(\n",
        "    query_texts = [\"movies showing ocean sailors\"],\n",
        "    n_results=3\n",
        ")\n",
        "\n",
        "print(result['ids'])\n",
        "print(result['distances'])\n",
        "print(result['documents'][0]) #for i in range(3)\n",
        "print(result['embeddings'])"
      ],
      "metadata": {
        "colab": {
          "base_uri": "https://localhost:8080/"
        },
        "id": "D98SXGqXw-CJ",
        "outputId": "0dc05588-23bb-490a-f231-acaf49d6f22b"
      },
      "execution_count": 14,
      "outputs": [
        {
          "output_type": "stream",
          "name": "stdout",
          "text": [
            "[['s333', 's941', 's634']]\n",
            "[[0.8409919738769531, 0.8583800792694092, 0.8980426788330078]]\n",
            "[\"Title: Deep Blue Sea (Movie)\\nDescription: Scientists conduct research on sharks in search of an Alzheimer's cure. But a dangerous shortcut leads to huge sharks with near-human intelligence.\\nCategories: Action & Adventure, Horror Movies, Sci-Fi & Fantasy\", 'Title: Motu Patlu: Deep Sea Adventure (Movie)\\nDescription: Friends Motu and Patlu get more maritime excitement than anticipated when the sinking of their ship sends them on a journey through the ocean floor!\\nCategories: Children & Family Movies, Comedies', 'Title: Into the Wind (Movie)\\nDescription: Two siblings set sail as a crew on a yacht on the Aegean Sea. Circumstances soon change when a young documentary filmmaker comes aboard.\\nCategories: Dramas, Independent Movies, International Movies']\n",
            "None\n"
          ]
        }
      ]
    },
    {
      "cell_type": "code",
      "source": [
        "reference_ids = result['ids'][0]\n",
        "reference_texts = collection.get(ids=reference_ids)['documents']\n",
        "print(reference_texts)\n",
        "\n",
        "result = collection.query(\n",
        "    query_texts=reference_texts,\n",
        "    n_results=3\n",
        ")\n",
        "\n",
        "print(result['ids'])\n",
        "print(result['distances'])\n",
        "print(result)"
      ],
      "metadata": {
        "colab": {
          "base_uri": "https://localhost:8080/"
        },
        "id": "WydcAE2vQH3p",
        "outputId": "44467377-0474-4bce-e238-b7ed3ff6937b"
      },
      "execution_count": 15,
      "outputs": [
        {
          "output_type": "stream",
          "name": "stdout",
          "text": [
            "[\"Title: Deep Blue Sea (Movie)\\nDescription: Scientists conduct research on sharks in search of an Alzheimer's cure. But a dangerous shortcut leads to huge sharks with near-human intelligence.\\nCategories: Action & Adventure, Horror Movies, Sci-Fi & Fantasy\", 'Title: Into the Wind (Movie)\\nDescription: Two siblings set sail as a crew on a yacht on the Aegean Sea. Circumstances soon change when a young documentary filmmaker comes aboard.\\nCategories: Dramas, Independent Movies, International Movies', 'Title: Motu Patlu: Deep Sea Adventure (Movie)\\nDescription: Friends Motu and Patlu get more maritime excitement than anticipated when the sinking of their ship sends them on a journey through the ocean floor!\\nCategories: Children & Family Movies, Comedies']\n",
            "[['s333', 's44', 's835'], ['s634', 's192', 's823'], ['s941', 's940', 's938']]\n",
            "[[0.0, 0.8070592284202576, 0.8218811750411987], [0.0, 0.8925493955612183, 0.9623372554779053], [0.0, 0.5948403477668762, 0.6144980192184448]]\n",
            "{'ids': [['s333', 's44', 's835'], ['s634', 's192', 's823'], ['s941', 's940', 's938']], 'embeddings': None, 'documents': [[\"Title: Deep Blue Sea (Movie)\\nDescription: Scientists conduct research on sharks in search of an Alzheimer's cure. But a dangerous shortcut leads to huge sharks with near-human intelligence.\\nCategories: Action & Adventure, Horror Movies, Sci-Fi & Fantasy\", 'Title: Jaws 3 (Movie)\\nDescription: After the staff of a marine theme park try to capture a young great white shark, they discover its mother has invaded the enclosure and is out for blood.\\nCategories: Action & Adventure, Horror Movies, Thrillers', 'Title: Blue Miracle (Movie)\\nDescription: To save their cash-strapped orphanage, a guardian and his kids partner with a washed-up boat captain for a chance to win a lucrative fishing competition.\\nCategories: Children & Family Movies, Dramas, Faith & Spirituality'], ['Title: Into the Wind (Movie)\\nDescription: Two siblings set sail as a crew on a yacht on the Aegean Sea. Circumstances soon change when a young documentary filmmaker comes aboard.\\nCategories: Dramas, Independent Movies, International Movies', \"Title: Wind River (Movie)\\nDescription: A tracker with the U.S. Fish and Wildlife Service assists a rookie FBI agent who's investigating a teen girl's murder on a remote Wyoming reservation.\\nCategories: Dramas, Independent Movies\", 'Title: The Wind (Movie)\\nDescription: Isolated on a wind-ravaged 19th-century homestead, a frontierswoman begins to suspect that evil lurks in the terrifying emptiness all around her.\\nCategories: Horror Movies'], ['Title: Motu Patlu: Deep Sea Adventure (Movie)\\nDescription: Friends Motu and Patlu get more maritime excitement than anticipated when the sinking of their ship sends them on a journey through the ocean floor!\\nCategories: Children & Family Movies, Comedies', 'Title: Motu Patlu in Wonderland (Movie)\\nDescription: When pals Motu and Patlu take a ride in their scientist friend’s newly built plane, a crash-landing on a strange island leads to action and adventure.\\nCategories: Children & Family Movies, Music & Musicals', \"Title: Motu Patlu in Dragon's World (Movie)\\nDescription: A trip to a magical land of dragons turns action-packed when Motu, Patlu and friends must help protect the kingdom from an evil neighbor.\\nCategories: Children & Family Movies, Comedies\"]], 'uris': None, 'included': ['metadatas', 'documents', 'distances'], 'data': None, 'metadatas': [[None, None, None], [None, None, None], [None, None, None]], 'distances': [[0.0, 0.8070592284202576, 0.8218811750411987], [0.0, 0.8925493955612183, 0.9623372554779053], [0.0, 0.5948403477668762, 0.6144980192184448]]}\n"
          ]
        }
      ]
    },
    {
      "cell_type": "code",
      "source": [
        "def print_s(documents):\n",
        "  for entry in documents:  # assuming your list is named `documents`\n",
        "    lines = entry.split(\"\\n\")\n",
        "    for line in lines:\n",
        "        if line.startswith(\"Title:\"):\n",
        "            print(f\"📌 {line}\")\n",
        "        elif line.startswith(\"Description:\"):\n",
        "            print(f\"📝 {line}\")\n",
        "        elif line.startswith(\"Categories:\"):\n",
        "            print(f\"🏷️ {line}\")\n",
        "    print()  # blank line between entries\n",
        "\n",
        "print_s(result['documents'][0])\n",
        "print_s(result['documents'][1])\n",
        "print_s(result['documents'][2])"
      ],
      "metadata": {
        "colab": {
          "base_uri": "https://localhost:8080/"
        },
        "id": "oRZ8hmxCSgN4",
        "outputId": "ac9474aa-a898-4c0d-8c42-c05f93032648"
      },
      "execution_count": 16,
      "outputs": [
        {
          "output_type": "stream",
          "name": "stdout",
          "text": [
            "📌 Title: Deep Blue Sea (Movie)\n",
            "📝 Description: Scientists conduct research on sharks in search of an Alzheimer's cure. But a dangerous shortcut leads to huge sharks with near-human intelligence.\n",
            "🏷️ Categories: Action & Adventure, Horror Movies, Sci-Fi & Fantasy\n",
            "\n",
            "📌 Title: Jaws 3 (Movie)\n",
            "📝 Description: After the staff of a marine theme park try to capture a young great white shark, they discover its mother has invaded the enclosure and is out for blood.\n",
            "🏷️ Categories: Action & Adventure, Horror Movies, Thrillers\n",
            "\n",
            "📌 Title: Blue Miracle (Movie)\n",
            "📝 Description: To save their cash-strapped orphanage, a guardian and his kids partner with a washed-up boat captain for a chance to win a lucrative fishing competition.\n",
            "🏷️ Categories: Children & Family Movies, Dramas, Faith & Spirituality\n",
            "\n",
            "📌 Title: Into the Wind (Movie)\n",
            "📝 Description: Two siblings set sail as a crew on a yacht on the Aegean Sea. Circumstances soon change when a young documentary filmmaker comes aboard.\n",
            "🏷️ Categories: Dramas, Independent Movies, International Movies\n",
            "\n",
            "📌 Title: Wind River (Movie)\n",
            "📝 Description: A tracker with the U.S. Fish and Wildlife Service assists a rookie FBI agent who's investigating a teen girl's murder on a remote Wyoming reservation.\n",
            "🏷️ Categories: Dramas, Independent Movies\n",
            "\n",
            "📌 Title: The Wind (Movie)\n",
            "📝 Description: Isolated on a wind-ravaged 19th-century homestead, a frontierswoman begins to suspect that evil lurks in the terrifying emptiness all around her.\n",
            "🏷️ Categories: Horror Movies\n",
            "\n",
            "📌 Title: Motu Patlu: Deep Sea Adventure (Movie)\n",
            "📝 Description: Friends Motu and Patlu get more maritime excitement than anticipated when the sinking of their ship sends them on a journey through the ocean floor!\n",
            "🏷️ Categories: Children & Family Movies, Comedies\n",
            "\n",
            "📌 Title: Motu Patlu in Wonderland (Movie)\n",
            "📝 Description: When pals Motu and Patlu take a ride in their scientist friend’s newly built plane, a crash-landing on a strange island leads to action and adventure.\n",
            "🏷️ Categories: Children & Family Movies, Music & Musicals\n",
            "\n",
            "📌 Title: Motu Patlu in Dragon's World (Movie)\n",
            "📝 Description: A trip to a magical land of dragons turns action-packed when Motu, Patlu and friends must help protect the kingdom from an evil neighbor.\n",
            "🏷️ Categories: Children & Family Movies, Comedies\n",
            "\n"
          ]
        }
      ]
    },
    {
      "cell_type": "markdown",
      "source": [
        "## Metadata adding"
      ],
      "metadata": {
        "id": "4HFCrA7OSMzA"
      }
    },
    {
      "cell_type": "markdown",
      "source": [],
      "metadata": {
        "id": "sVQDQeStSGrx"
      }
    },
    {
      "cell_type": "code",
      "source": [
        "import csv\n",
        "ids = []\n",
        "metadatas = []\n",
        "with open('netflix_titles_1000.csv') as csvfile:\n",
        "  reader = csv.DictReader(csvfile)\n",
        "  for i, row in enumerate(reader):\n",
        "    ids.append(row['show_id'])\n",
        "    metadatas.append({\n",
        "        'type': row['type'],\n",
        "        'release_year': int(row['release_year']),\n",
        "    })"
      ],
      "metadata": {
        "id": "6WhcZRg5RnEh"
      },
      "execution_count": 17,
      "outputs": []
    },
    {
      "cell_type": "markdown",
      "source": [
        "## Adding metadata"
      ],
      "metadata": {
        "id": "pIhhgCpo14vC"
      }
    },
    {
      "cell_type": "code",
      "source": [
        "#collection.delete(ids=['id-1', 'id-2'])\n",
        "ids = []\n",
        "metadatas = []\n",
        "with open('netflix_titles_1000.csv') as csvfile:\n",
        "  reader = csv.DictReader(csvfile)\n",
        "  for i, row in enumerate(reader):\n",
        "    ids.append(row['show_id'])\n",
        "    metadatas.append({\n",
        "        'type': row['type'],\n",
        "        'release_year': int(row['release_year']),\n",
        "    })\n",
        ""
      ],
      "metadata": {
        "id": "fwjX67rMPLur"
      },
      "execution_count": 18,
      "outputs": []
    },
    {
      "cell_type": "markdown",
      "source": [
        "Adding and quering metadatas"
      ],
      "metadata": {
        "id": "fhZ_dH6uVli7"
      }
    },
    {
      "cell_type": "code",
      "source": [
        "collection.update(ids=ids, metadatas=metadatas)\n",
        "\n",
        "result=collection.query(\n",
        "    query_texts=reference_texts,\n",
        "    n_results=3,\n",
        "    where={\n",
        "        #\"type\":\"Movie\"\n",
        "        \"type\": {\"$eq\": \"Movie\"}\n",
        "    }\n",
        ")"
      ],
      "metadata": {
        "id": "-8mVh-neRVsZ"
      },
      "execution_count": 23,
      "outputs": []
    },
    {
      "cell_type": "code",
      "source": [
        "result=collection.query(\n",
        "    query_texts=reference_texts,\n",
        "    n_results=3,\n",
        "    where={\n",
        "        \"$and\": [\n",
        "          {\"type\": {\"$eq\": \"Movie\"}},\n",
        "          {\"release_year\": {\"$gt\": 2020}}\n",
        "        ]\n",
        "    }\n",
        ")"
      ],
      "metadata": {
        "id": "Lk5qGnZ1XrTU"
      },
      "execution_count": 24,
      "outputs": []
    },
    {
      "cell_type": "code",
      "source": [
        "client.delete_collection(\"netflix_titles\")"
      ],
      "metadata": {
        "id": "C-fTTIqL5IvK"
      },
      "execution_count": 35,
      "outputs": []
    },
    {
      "cell_type": "code",
      "source": [
        "collection = client.create_collection(\n",
        "  name=\"netflix_titles\",\n",
        "  embedding_function=OpenAIEmbeddingFunction(model_name=\"text-embedding-3-small\", api_key=OPENAI_API_TOKEN)\n",
        ")"
      ],
      "metadata": {
        "id": "oPJnYso5PZJC"
      },
      "execution_count": 36,
      "outputs": []
    },
    {
      "cell_type": "code",
      "source": [
        "ids = []\n",
        "metadatas = []\n",
        "with open('netflix_titles_1000.csv') as csvfile:\n",
        "  reader = csv.DictReader(csvfile)\n",
        "  for i, row in enumerate(reader):\n",
        "    ids.append(row['show_id'])\n",
        "    metadatas.append({\n",
        "        \"rating\":row['rating'],\n",
        "        \"release_year\": int(row['release_year'])\n",
        "    })\n",
        "\n",
        "\n",
        "collection.add(\n",
        "    ids=ids,\n",
        "    documents=documents,\n",
        "    metadatas=metadatas\n",
        ")"
      ],
      "metadata": {
        "id": "WI5NJPJl53jt"
      },
      "execution_count": 39,
      "outputs": []
    },
    {
      "cell_type": "code",
      "source": [
        "reference_texts = [\"children's story about a car\", \"Sailor's story\"]\n",
        "\n",
        "# Query two results using reference_texts\n",
        "result = collection.query(\n",
        "  query_texts=reference_texts,\n",
        "  n_results=2,\n",
        "  # Filter for titles with a G rating released before 2019\n",
        "  where={\n",
        "    \"$and\": [\n",
        "        {\"rating\":\n",
        "        \t{\"$eq\":\"G\"}\n",
        "        },\n",
        "        {\"release_year\":\n",
        "         \t{\"$lt\":2019}\n",
        "        }\n",
        "    ]\n",
        "  }\n",
        ")\n",
        "\n",
        "\n",
        "print_s(result['documents'][0])\n",
        "print_s(result['documents'][1])"
      ],
      "metadata": {
        "colab": {
          "base_uri": "https://localhost:8080/"
        },
        "id": "A8kOpEoF5W7W",
        "outputId": "2d9bd279-8ac9-4579-ced7-5c3ccef6e67c"
      },
      "execution_count": 56,
      "outputs": [
        {
          "output_type": "stream",
          "name": "stdout",
          "text": [
            "📌 Title: A Champion Heart (Movie)\n",
            "📝 Description: When a grieving teen must work off her debt to a ranch, she cares for a wounded horse that teaches her more about healing than she expected.\n",
            "🏷️ Categories: Children & Family Movies, Dramas\n",
            "\n",
            "📌 Title: Hachi: A Dog's Tale (Movie)\n",
            "📝 Description: When his master dies, a loyal pooch named Hachiko keeps a vigil for more than a decade at the train station where he once greeted his owner every day.\n",
            "🏷️ Categories: Children & Family Movies, Dramas\n",
            "\n",
            "📌 Title: Hachi: A Dog's Tale (Movie)\n",
            "📝 Description: When his master dies, a loyal pooch named Hachiko keeps a vigil for more than a decade at the train station where he once greeted his owner every day.\n",
            "🏷️ Categories: Children & Family Movies, Dramas\n",
            "\n",
            "📌 Title: A Champion Heart (Movie)\n",
            "📝 Description: When a grieving teen must work off her debt to a ranch, she cares for a wounded horse that teaches her more about healing than she expected.\n",
            "🏷️ Categories: Children & Family Movies, Dramas\n",
            "\n"
          ]
        }
      ]
    },
    {
      "cell_type": "code",
      "source": [
        "import tiktoken\n",
        "\n",
        "# Load the encoder for the OpenAI text-embedding-3-small model\n",
        "enc = tiktoken.encoding_for_model(\"text-embedding-3-small\")\n",
        "\n",
        "# Encode each text in documents and calculate the total tokens\n",
        "total_tokens = sum(len(enc.encode(text)) for text in documents)\n",
        "\n",
        "cost_per_1k_tokens = 0.00002\n",
        "\n",
        "# Display number of tokens and cost\n",
        "print('Total tokens:', total_tokens)\n",
        "print('Cost:', total_tokens*cost_per_1k_tokens/1000)"
      ],
      "metadata": {
        "colab": {
          "base_uri": "https://localhost:8080/"
        },
        "id": "UQbbNRDX2Pnn",
        "outputId": "10ec1784-37a2-4df3-f7d0-e59bd142fdbe"
      },
      "execution_count": 21,
      "outputs": [
        {
          "output_type": "stream",
          "name": "stdout",
          "text": [
            "Total tokens: 51226\n",
            "Cost: 0.0010245200000000001\n"
          ]
        }
      ]
    },
    {
      "cell_type": "code",
      "source": [],
      "metadata": {
        "id": "pKBiSwwQ_5Oj"
      },
      "execution_count": 21,
      "outputs": []
    }
  ]
}